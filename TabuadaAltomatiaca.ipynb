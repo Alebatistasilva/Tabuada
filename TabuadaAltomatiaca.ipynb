{
  "nbformat": 4,
  "nbformat_minor": 0,
  "metadata": {
    "colab": {
      "provenance": [],
      "authorship_tag": "ABX9TyO7O72FtyDNTpYSGySo1y+B",
      "include_colab_link": true
    },
    "kernelspec": {
      "name": "python3",
      "display_name": "Python 3"
    },
    "language_info": {
      "name": "python"
    }
  },
  "cells": [
    {
      "cell_type": "markdown",
      "metadata": {
        "id": "view-in-github",
        "colab_type": "text"
      },
      "source": [
        "<a href=\"https://colab.research.google.com/github/Alebatistasilva/Tabuada/blob/main/TabuadaAltomatiaca.ipynb\" target=\"_parent\"><img src=\"https://colab.research.google.com/assets/colab-badge.svg\" alt=\"Open In Colab\"/></a>"
      ]
    },
    {
      "cell_type": "code",
      "execution_count": null,
      "metadata": {
        "colab": {
          "base_uri": "https://localhost:8080/"
        },
        "id": "3gY2DMoTSvHm",
        "outputId": "15323310-5c3d-4926-febc-e2c6cdb9e58a"
      },
      "outputs": [
        {
          "output_type": "stream",
          "name": "stdout",
          "text": [
            "valor para tabuada: 8\n",
            "8 x 0 = 0\n",
            "8 x 1 = 8\n",
            "8 x 2 = 16\n",
            "8 x 3 = 24\n",
            "8 x 4 = 32\n",
            "8 x 5 = 40\n",
            "8 x 6 = 48\n",
            "8 x 7 = 56\n",
            "8 x 8 = 64\n",
            "8 x 9 = 72\n",
            "8 x 10 = 80\n",
            "para continuar digite 1:0\n",
            "fim\n"
          ]
        }
      ],
      "source": [
        "\n",
        "contador=0\n",
        "voltar=11\n",
        "escolha=0\n",
        "cont=0\n",
        "\n",
        "valor=int(input(\"valor para tabuada: \"))\n",
        "while contador <=10:\n",
        "   resultado=contador*valor\n",
        "   print(valor,\"x\",contador,\"=\",resultado)\n",
        "   contador=contador+1\n",
        "\n",
        "   retorno=voltar-contador\n",
        "   continuar=retorno+escolha\n",
        "\n",
        "continuar=int(input(\"para continuar digite 1:\"))\n",
        "\n",
        "if continuar != 1:\n",
        " print(\"fim\")\n",
        "\n",
        "else:\n",
        " novo=int(input(\"valor para tabuada: \"))\n",
        "\n",
        " while cont <=10:\n",
        "   resultado=cont*novo\n",
        "   print(novo,\"x\",cont,\"=\",resultado)\n",
        "   cont=cont+1\n",
        "\n",
        "\n",
        "\n"
      ]
    }
  ]
}